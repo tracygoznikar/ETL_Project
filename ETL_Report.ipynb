{
 "cells": [
  {
   "cell_type": "markdown",
   "metadata": {},
   "source": [
    "# ETL Technical Report"
   ]
  },
  {
   "cell_type": "markdown",
   "metadata": {},
   "source": [
    "## Purpose"
   ]
  },
  {
   "cell_type": "markdown",
   "metadata": {},
   "source": [
    "<blockquote>The purpose of this project is to introduce students to extracting, transforming, and loading data into a database for retrieval. The requirements of this ETL Project included the following:\n",
    "<br>\n",
    "<ul>\n",
    "    <li> Project must use 2 or more sources of data. Recommended sites are: Data World - https://data.world/ or Kaggle -https://www.kaggle.com/ (APIs can be used as well)</li><br>\n",
    "    <li> A technical report must be submitted which details sources of data, type of files, type of database, and expected output</li>\n",
    "</ul>\n",
    "</blockquote>"
   ]
  },
  {
   "cell_type": "code",
   "execution_count": null,
   "metadata": {},
   "outputs": [],
   "source": []
  }
 ],
 "metadata": {
  "kernelspec": {
   "display_name": "Python 3",
   "language": "python",
   "name": "python3"
  },
  "language_info": {
   "codemirror_mode": {
    "name": "ipython",
    "version": 3
   },
   "file_extension": ".py",
   "mimetype": "text/x-python",
   "name": "python",
   "nbconvert_exporter": "python",
   "pygments_lexer": "ipython3",
   "version": "3.7.6"
  }
 },
 "nbformat": 4,
 "nbformat_minor": 4
}
