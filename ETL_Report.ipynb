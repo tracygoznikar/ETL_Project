{
 "cells": [
  {
   "attachments": {
    "download.jfif": {
     "image/jpeg": "[encoded data removed]"
    }
   },
   "cell_type": "markdown",
   "metadata": {},
   "source": [
    "![download.jfif](attachment:download.jfif)"
   ]
  },
  {
   "cell_type": "markdown",
   "metadata": {},
   "source": [
    "# ETL Technical Report"
   ]
  },
  {
   "cell_type": "markdown",
   "metadata": {},
   "source": [
    "## Purpose"
   ]
  },
  {
   "cell_type": "markdown",
   "metadata": {},
   "source": [
    "<blockquote>The purpose of this project is to introduce students to extracting, transforming, and loading data into a database for retrieval. The requirements of this ETL Project included the following:\n",
    "<br>\n",
    "<ul>\n",
    "    <li> Project must use 2 or more sources of data. Recommended sites are: <a href=\"https://data.world/\">Data World</a> or <a href=\"https://www.kaggle.com/\">Kaggle</a> (APIs can be used as well)</li><br>\n",
    "    <li> A technical report must be submitted which details sources of data, type of files, type of database, and expected output</li>\n",
    "</ul>\n",
    "</blockquote>"
   ]
  },
  {
   "cell_type": "markdown",
   "metadata": {},
   "source": [
    "## Extracting Data Sources"
   ]
  },
  {
   "cell_type": "markdown",
   "metadata": {},
   "source": [
    "<blockquote>The first data source we used was from Kaggle. We used the <a href=\"https://www.kaggle.com/mylesoneill/world-university-rankings\">World University Rankings</a> dataset. Its comprised of three separate ranking sources that attempt to rank institutions of higher education from best to worst. One list is from the Tiimes Higher Education World University Ranking, the other from Academic Ranking of World Universities (aka Shanghai Ranking), and the third is from the Center for World University Rankings. The second data source comprises <a href=\"https://www.kaggle.com/jessemostipak/college-tuition-diversity-and-pay?select=tuition_cost.csv\">tuition</a> costs. All files are in comma-separated format.\n",
    "<br>\n",
    "<br>\n",
    "\n",
    "These 3 rankings use different criteria to rank universities. Therefore, there are not many columns of data that are the same but it will be interesting to see where a university ranks on one list compared to another. The tuition cost file provides more detail about the institutions such as whether or not they're 2 or 4 year, public, private or for-profit, and includes the state the school is located in which isn't available in the ranking files.\n",
    "<br>\n",
    "<br>\n",
    "\n",
    "We used Pandas within a Jupyter Notebook to handle all phases of ETL.\n",
    "</blockquote>\n"
   ]
  },
  {
   "cell_type": "markdown",
   "metadata": {},
   "source": [
    "## Transformation"
   ]
  },
  {
   "cell_type": "markdown",
   "metadata": {},
   "source": [
    "<blockquote>The only column of data present in all files is the name of the university. This is not ideal to have a name field as the primary key. We decided to only focus on schools in the U.S. Also, the files cover different ranking years. Years 2012-2015 are the only years present in all 3 ranking files. Additionally, the tuition cost file only covers the 2018-19 academic year. With that we filtered 2 of the ranking files on the year field and country field. The Shanghai Ranking file didn't include a country column but we also found a crosswalk file which simply listed university names and country. We were able to merge these two lists and then filter(.loc) only U.S. schools to create a final dataframe for the Shanghai ranking.</blockquote>\n"
   ]
  },
  {
   "cell_type": "markdown",
   "metadata": {},
   "source": [
    "## Challenges"
   ]
  },
  {
   "cell_type": "markdown",
   "metadata": {},
   "source": [
    "<blockquote>As mentioned previously, it wasn't an ideal situation to have a name column as the primary key. Therefore, when joining the Shanghai ranking with the crosswalk file, we encountered non-matching school names, when indeed the school was the same. An example of this is one list would list University of California-Berkeley and the other would list University of California, Berkeley. We encountered several inconsistencies such as this. We asked the TA how we should handle these type of discrepancies, with respect to the time restraint on the project and our novice experience. The TA mentioned some solutions but none were easy fixes and we were finally advised to ignore the non-matching records.</blockquote>"
   ]
  },
  {
   "cell_type": "markdown",
   "metadata": {},
   "source": [
    "## Loading"
   ]
  },
  {
   "cell_type": "markdown",
   "metadata": {},
   "source": [
    "<blockquote>We loaded all data into a sql database using pgAdmin.<blockquote>"
   ]
  },
  {
   "cell_type": "code",
   "execution_count": null,
   "metadata": {},
   "outputs": [],
   "source": []
  }
 ],
 "metadata": {
  "kernelspec": {
   "display_name": "Python 3",
   "language": "python",
   "name": "python3"
  },
  "language_info": {
   "codemirror_mode": {
    "name": "ipython",
    "version": 3
   },
   "file_extension": ".py",
   "mimetype": "text/x-python",
   "name": "python",
   "nbconvert_exporter": "python",
   "pygments_lexer": "ipython3",
   "version": "3.7.6"
  }
 },
 "nbformat": 4,
 "nbformat_minor": 4
}
